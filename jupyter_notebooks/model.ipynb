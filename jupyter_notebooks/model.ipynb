{
 "cells": [
  {
   "cell_type": "code",
   "execution_count": 1,
   "id": "616cfc89-9e7e-464b-8550-1b1a8de386b9",
   "metadata": {},
   "outputs": [
    {
     "name": "stderr",
     "output_type": "stream",
     "text": [
      "C:\\Users\\cbreu\\AppData\\Local\\Packages\\PythonSoftwareFoundation.Python.3.12_qbz5n2kfra8p0\\LocalCache\\local-packages\\Python312\\site-packages\\sklearn\\experimental\\enable_hist_gradient_boosting.py:16: UserWarning: Since version 1.0, it is not needed to import enable_hist_gradient_boosting anymore. HistGradientBoostingClassifier and HistGradientBoostingRegressor are now stable and can be normally imported from sklearn.ensemble.\n",
      "  warnings.warn(\n"
     ]
    }
   ],
   "source": [
    "# from sklearn.model_selection import train_test_split, StratifiedKFold, cross_validate\n",
    "from sklearn.experimental import enable_hist_gradient_boosting  # noqa: F401\n",
    "from sklearn.ensemble import HistGradientBoostingClassifier\n",
    "from sklearn.metrics import roc_auc_score, average_precision_score, classification_report\n",
    "from sklearn.impute import SimpleImputer\n",
    "from sklearn.pipeline import Pipeline\n",
    "from sklearn.compose import ColumnTransformer\n",
    "from sklearn.model_selection import train_test_split, StratifiedKFold, cross_validate\n",
    "from joblib import dump\n",
    "import pandas as pd\n",
    "import json, os, re, sys"
   ]
  },
  {
   "cell_type": "code",
   "execution_count": 154,
   "id": "920a4cd9-aadb-4f7a-9828-701bc4f2b137",
   "metadata": {},
   "outputs": [],
   "source": [
    "# Read in the data\n",
    "\n",
    "df = pd.read_parquet('C:/test/annotated.full.parquet')"
   ]
  },
  {
   "cell_type": "code",
   "execution_count": 155,
   "id": "d4814f71-bb61-4b01-8d21-cef6f4ca7d97",
   "metadata": {},
   "outputs": [],
   "source": [
    "# Identify ambiguous data (\"conflicting\"), and high-confidence pathogenic or benign call\n",
    "\n",
    "def map_label(s):\n",
    "    if not isinstance(s, str): return np.nan\n",
    "    t = s.lower().replace(\" \", \"_\")\n",
    "    if \"conflicting\" in t: return -1\n",
    "    if \"pathogenic\" in t and \"benign\" not in t: return 1\n",
    "    if \"benign\" in t and \"pathogenic\" not in t: return 0\n",
    "    return np.nan\n",
    "\n",
    "df[\"label\"] = df[\"clnsig\"].apply(map_label)"
   ]
  },
  {
   "cell_type": "code",
   "execution_count": 87,
   "id": "23fd65b4-97c3-4e89-a626-f7fb8ed7ca81",
   "metadata": {},
   "outputs": [],
   "source": [
    "# Save ambiguous data\n",
    "\n",
    "amb = df[df[\"label\"] == -1]\n",
    "\n",
    "amb.to_csv(\"ambiguous_data_filtered.tsv.gz\", sep=\"\\t\", index=False,\n",
    "          na_rep=\".\", float_format=\"%.6g\", compression=\"gzip\")"
   ]
  },
  {
   "cell_type": "code",
   "execution_count": 88,
   "id": "c44a4893-d620-42b9-a3a7-fd7f9ae474c0",
   "metadata": {},
   "outputs": [],
   "source": [
    "# Collect Good data\n",
    "\n",
    "df = df[df[\"label\"] != -1]"
   ]
  },
  {
   "cell_type": "code",
   "execution_count": 89,
   "id": "bcc7542c-33a1-4bf4-85e3-a5ee1b122425",
   "metadata": {},
   "outputs": [],
   "source": [
    "# Copy to training dataset\n",
    "\n",
    "X = df.copy()"
   ]
  },
  {
   "cell_type": "code",
   "execution_count": 90,
   "id": "9e887f63-8c2f-4890-88b1-178b75052e9c",
   "metadata": {},
   "outputs": [],
   "source": [
    "# All remaining columns should be numeric. \n",
    "# Double check to ensure numeric dtype\n",
    "\n",
    "for c in X.columns:\n",
    "    X[c] = pd.to_numeric(X[c], errors=\"coerce\")"
   ]
  },
  {
   "cell_type": "code",
   "execution_count": 91,
   "id": "337c0b53-31d0-4c42-9c9c-783e543592de",
   "metadata": {},
   "outputs": [],
   "source": [
    "# Predictor column (0/1 for benign/pathogenic)\n",
    "\n",
    "y = X[\"label\"]"
   ]
  },
  {
   "cell_type": "code",
   "execution_count": 93,
   "id": "3d41e0c7-88d7-4cf4-bc26-bbf75c53b5a1",
   "metadata": {},
   "outputs": [],
   "source": [
    "# Drop unneeded columns (target column is 'label' with \"benign\"/0, \"pathogenic\"/1)\n",
    "\n",
    "X = X.drop([\"chrom\",\"pos\",\"ref\",\"alt\", \"label\", \"feature\", \"gene\", \"clnsig\", \"ccr_top1\"], axis =1 )"
   ]
  },
  {
   "cell_type": "code",
   "execution_count": 97,
   "id": "553b1b10-58db-4067-bee3-624144cbe71e",
   "metadata": {},
   "outputs": [
    {
     "name": "stdout",
     "output_type": "stream",
     "text": [
      "Number of predictors: \n",
      " Benign: 1263888 \n",
      " Pathogenic: 311757 \n",
      " Percent Pathogenic: 80\n"
     ]
    }
   ],
   "source": [
    "# Print a rough summary of target column\n",
    "\n",
    "benign = sum(y==0)\n",
    "pathogenic = sum(y==1)\n",
    "total = benign + pathogenic\n",
    "pct = int(100*(benign/total))\n",
    "\n",
    "print(f'Number of predictors: \\n Benign: {benign} \\n Pathogenic: {pathogenic} \\n Percent Pathogenic: {pct}')"
   ]
  },
  {
   "cell_type": "code",
   "execution_count": 98,
   "id": "9ae47a29-7b0b-43aa-97c9-56c89579759e",
   "metadata": {},
   "outputs": [],
   "source": [
    "# Set random number seed\n",
    "\n",
    "randomSeed = 99"
   ]
  },
  {
   "cell_type": "code",
   "execution_count": 99,
   "id": "2aaa682b-3576-4ae4-a3bc-1276aa1d9f6c",
   "metadata": {},
   "outputs": [],
   "source": [
    "# Train/test split\n",
    "\n",
    "X_train, X_test, y_train, y_test = train_test_split(X, y, test_size=0.2, random_state=randomSeed, stratify=y)"
   ]
  },
  {
   "cell_type": "code",
   "execution_count": 100,
   "id": "a100e8b0-57d3-4a7b-89b4-a766738ea3f1",
   "metadata": {},
   "outputs": [],
   "source": [
    "# Pipeline settings\n",
    "\n",
    "# Pipeline: median imputer -> HistGradientBoosting\n",
    "\n",
    "pipe = Pipeline(steps=[\n",
    "    (\"impute\", SimpleImputer(strategy=\"median\")),\n",
    "    (\"clf\", HistGradientBoostingClassifier(\n",
    "        learning_rate=0.05,\n",
    "        max_depth=None,      # allow tree growth with L2 regularization\n",
    "        max_leaf_nodes=31,\n",
    "        l2_regularization=0.0,\n",
    "        random_state=randomSeed\n",
    "    ))\n",
    "])"
   ]
  },
  {
   "cell_type": "code",
   "execution_count": 101,
   "id": "ff6685e1-085c-4749-9fca-28102da898a0",
   "metadata": {},
   "outputs": [],
   "source": [
    "# Test the effectiveness of the training data + model + params using 5-fold cross validation\n",
    "    # This creates a model 5x on 5 different train/test splits\n",
    "    # This does not produce an output model. It only establishes the likelihood the settings will produce a good model.\n",
    "\n",
    "cv = StratifiedKFold(n_splits=5, shuffle=True, random_state=randomSeed)\n",
    "\n",
    "# Set scoring method\n",
    "    # ROC AUC - area under the curve - higher = better\n",
    "    # Average precision - good for cases where the positive value is rare (not the case here, but ok)\n",
    "scoring = {\"roc_auc\":\"roc_auc\", \"pr_auc\":\"average_precision\"}\n",
    "\n",
    "# Test by 5x cross validation\n",
    "cv_res = cross_validate(pipe, X_train, y_train, cv=cv, scoring=scoring, n_jobs=-1, return_train_score=False)"
   ]
  },
  {
   "cell_type": "code",
   "execution_count": 102,
   "id": "5e5d2c9e-afe0-4fdc-990f-3926337aaecc",
   "metadata": {},
   "outputs": [
    {
     "name": "stdout",
     "output_type": "stream",
     "text": [
      "[cv] ROC-AUC mean=0.997 ± 0.000\n",
      "[cv] PR-AUC  mean=0.989 ± 0.000\n"
     ]
    }
   ],
   "source": [
    "# Report CV test results\n",
    "\n",
    "print(f\"[cv] ROC-AUC mean={cv_res['test_roc_auc'].mean():.3f} ± {cv_res['test_roc_auc'].std():.3f}\")\n",
    "print(f\"[cv] PR-AUC  mean={cv_res['test_pr_auc'].mean():.3f} ± {cv_res['test_pr_auc'].std():.3f}\")"
   ]
  },
  {
   "cell_type": "code",
   "execution_count": 105,
   "id": "2c641c20-9573-4eca-8479-5289c944a4c5",
   "metadata": {},
   "outputs": [],
   "source": [
    "# Fit on full train; evaluate on held-out test\n",
    "\n",
    "pipe.fit(X_train, y_train)\n",
    "proba = pipe.predict_proba(X_test)[:,1]\n",
    "preds = (proba >= 0.5).astype(int)"
   ]
  },
  {
   "cell_type": "code",
   "execution_count": 106,
   "id": "5f8eba47-dd4e-4090-9858-7addf3d0949b",
   "metadata": {},
   "outputs": [
    {
     "data": {
      "text/plain": [
       "array([0, 0, 0, ..., 0, 0, 0])"
      ]
     },
     "execution_count": 106,
     "metadata": {},
     "output_type": "execute_result"
    }
   ],
   "source": [
    "# Check out Proba - probability that each predictor is the positive class (i.e. a \"1\" == \"pathogenic\")\n",
    "\n",
    "preds"
   ]
  },
  {
   "cell_type": "code",
   "execution_count": 107,
   "id": "f951caf9-4dd6-4432-b126-ca96efdbbb06",
   "metadata": {},
   "outputs": [
    {
     "name": "stdout",
     "output_type": "stream",
     "text": [
      "[test] ROC-AUC=0.997  PR-AUC=0.990\n",
      "[test] classification report:\n",
      "              precision    recall  f1-score   support\n",
      "\n",
      "           0      0.988     0.993     0.990    252778\n",
      "           1      0.971     0.951     0.961     62351\n",
      "\n",
      "    accuracy                          0.985    315129\n",
      "   macro avg      0.979     0.972     0.976    315129\n",
      "weighted avg      0.985     0.985     0.985    315129\n",
      "\n"
     ]
    }
   ],
   "source": [
    "# Assess model\n",
    "\n",
    "test_roc = roc_auc_score(y_test, proba)\n",
    "test_pr  = average_precision_score(y_test, proba)\n",
    "\n",
    "print(f\"[test] ROC-AUC={test_roc:.3f}  PR-AUC={test_pr:.3f}\")\n",
    "print(\"[test] classification report:\")\n",
    "print(classification_report(y_test, preds, digits=3))"
   ]
  },
  {
   "cell_type": "code",
   "execution_count": 108,
   "id": "93d7cbc8-aed9-4662-9979-55bd66af7b21",
   "metadata": {},
   "outputs": [
    {
     "data": {
      "text/plain": [
       "['model1.joblib']"
      ]
     },
     "execution_count": 108,
     "metadata": {},
     "output_type": "execute_result"
    }
   ],
   "source": [
    "# Save the model\n",
    "pipelineName = \"model1.joblib\"\n",
    "dump(pipe, pipelineName)"
   ]
  },
  {
   "cell_type": "code",
   "execution_count": 109,
   "id": "da6ff2e5-fcec-44e4-b819-947ad7697244",
   "metadata": {},
   "outputs": [],
   "source": [
    "# Record model features\n",
    "\n",
    "with open(\"modelFeatures.txt\", \"w\") as out:\n",
    "    out.write(\"Features:\\n\")\n",
    "    for f in X.columns:\n",
    "        out.write(f + \"\\n\")"
   ]
  },
  {
   "cell_type": "code",
   "execution_count": 110,
   "id": "0a550ccb-fdf1-4fd8-9736-c04629e5be16",
   "metadata": {},
   "outputs": [
    {
     "name": "stdout",
     "output_type": "stream",
     "text": [
      "[done] saved model → variant_model.joblib\n",
      "[done] saved features → features.json\n",
      "[done] saved metrics → metrics.json\n"
     ]
    }
   ],
   "source": [
    "# Save model scores\n",
    "\n",
    "with open(\"modelScores.json\", \"w\") as f:\n",
    "    json.dump({\n",
    "        \"cv_roc_auc_mean\": float(cv_res['test_roc_auc'].mean()),\n",
    "        \"cv_pr_auc_mean\": float(cv_res['test_pr_auc'].mean()),\n",
    "        \"test_roc_auc\": float(test_roc),\n",
    "        \"test_pr_auc\": float(test_pr)\n",
    "    }, f, indent=2)\n",
    "\n",
    "print(f\"[done] saved model → {'variant_model.joblib'}\")\n",
    "print(f\"[done] saved features → {'features.json'}\")\n",
    "print(f\"[done] saved metrics → {'metrics.json'}\")"
   ]
  },
  {
   "cell_type": "code",
   "execution_count": 111,
   "id": "dd2c5eb9-11fd-4964-b207-aaeda8c02b27",
   "metadata": {},
   "outputs": [],
   "source": [
    "# Repair the prediction data to training for confusion matrix\n",
    "\n",
    "X_test['proba'] = proba\n",
    "X_test['preds'] = preds\n",
    "X_test['actual'] = y\n",
    "X_test[\"correct\"] = (X_test[\"preds\"] == X_test[\"actual\"]).astype(int)"
   ]
  },
  {
   "cell_type": "code",
   "execution_count": 112,
   "id": "d1248f93-a5e9-4e74-bf2c-04b0376ccab3",
   "metadata": {},
   "outputs": [
    {
     "name": "stdout",
     "output_type": "stream",
     "text": [
      "Correct: 310306, Total: 315129, Percent: 98.46951565866678\n"
     ]
    }
   ],
   "source": [
    "# Get general metrics\n",
    "\n",
    "totalEntries = len(X_test)\n",
    "correctEntries = len(X_test[X_test[\"correct\"] == 1])\n",
    "print(f\"Correct: {correctEntries}, Total: {totalEntries}, Percent: {100*(correctEntries/totalEntries)}\")"
   ]
  },
  {
   "cell_type": "code",
   "execution_count": 115,
   "id": "a3f904d1-d366-43d4-9e5d-41702f207d3c",
   "metadata": {},
   "outputs": [
    {
     "data": {
      "text/plain": [
       "[Text(0.5, 23.52222222222222, 'Prediction'),\n",
       " Text(77.92222222222227, 0.5, 'Actual')]"
      ]
     },
     "execution_count": 115,
     "metadata": {},
     "output_type": "execute_result"
    },
    {
     "data": {
      "image/png": "[encoded data removed]",
      "text/plain": [
       "<Figure size 640x480 with 2 Axes>"
      ]
     },
     "metadata": {},
     "output_type": "display_data"
    }
   ],
   "source": [
    "from sklearn.metrics import confusion_matrix\n",
    "\n",
    "cm = confusion_matrix(X_test[\"actual\"], X_test[\"preds\"])\n",
    "cm = pd.DataFrame(cm, index=['0/Benign', '1/Path'], columns=['0/Benign', '1/Path'])\n",
    "\n",
    "# Confusion Matrix of filtered data\n",
    "import seaborn as sns\n",
    "\n",
    "labels = [\"Benign\",\"Pathogenic\"]\n",
    "hm = sns.heatmap(cm, annot=True, linecolor='gray', linewidth=1, fmt='', xticklabels=labels, yticklabels=labels, square=True)\n",
    "hm.set(xlabel='Prediction', ylabel='Actual')"
   ]
  },
  {
   "cell_type": "code",
   "execution_count": 116,
   "id": "a36566c1-5637-4681-a005-b4edf91d8ae9",
   "metadata": {},
   "outputs": [
    {
     "data": {
      "text/plain": [
       "[Text(0.5, 23.52222222222222, 'Prediction'),\n",
       " Text(77.92222222222227, 0.5, 'Actual')]"
      ]
     },
     "execution_count": 116,
     "metadata": {},
     "output_type": "execute_result"
    },
    {
     "data": {
      "image/png": "[encoded data removed]",
      "text/plain": [
       "<Figure size 640x480 with 2 Axes>"
      ]
     },
     "metadata": {},
     "output_type": "display_data"
    }
   ],
   "source": [
    "# Convert confusion matrix to percent of total benign or total pathogenic\n",
    "\n",
    "cSums = list(cm.sum(axis=0))\n",
    "benTotal = cSums[0]\n",
    "pathtotal = cSums[1]\n",
    "\n",
    "bb = round(100*(cm.iloc[0,0]/benTotal),1)\n",
    "bp = round(100*(cm.iloc[1,0]/benTotal),1)\n",
    "pb = round(100*(cm.iloc[0,1]/pathtotal),1)\n",
    "pp = round(100*(cm.iloc[1,1]/pathtotal),1)\n",
    "cmp = [[bb, pb], [bp, pp]]\n",
    "cm2 = pd.DataFrame(cmp, index=['Pathogenic', 'Benign'], columns=['Pathogenic', 'Benign'])\n",
    "\n",
    "# Plot confusion matrix as percent\n",
    "\n",
    "labels = [\"Benign\",\"Pathogenic\"]\n",
    "hm = sns.heatmap(cm2, annot=True, linecolor='gray', linewidth=1, fmt='', xticklabels=labels, yticklabels=labels, square=True)\n",
    "hm.set(xlabel='Prediction', ylabel='Actual')"
   ]
  },
  {
   "cell_type": "markdown",
   "id": "6baf829b-a4ee-46d3-ba68-71af155c55dc",
   "metadata": {},
   "source": [
    "# **Predict the effect of ambiguous mutations**"
   ]
  },
  {
   "cell_type": "code",
   "execution_count": 147,
   "id": "843f7717-3b3c-483a-b8a7-417818e625d2",
   "metadata": {},
   "outputs": [],
   "source": [
    "# Use the model to predict the ambiguous data effects\n",
    "\n",
    "amb = pd.read_csv(\"ambiguous_data_filtered.tsv.gz\", sep=\"\\t\", compression=\"gzip\")"
   ]
  },
  {
   "cell_type": "code",
   "execution_count": 148,
   "id": "c2859828-b879-48dc-a68e-160464b843ac",
   "metadata": {},
   "outputs": [],
   "source": [
    "# Split off predictors\n",
    "\n",
    "X = amb.drop([\"chrom\", \"pos\", \"ref\", \"alt\", \"label\", \"clnsig\", \"feature\", \"gene\", \"label\", \"ccr_top1\"], axis=1)\n",
    "\n",
    "# Ensure data is numeric\n",
    "for c in X.columns:\n",
    "    X[c] = pd.to_numeric(X[c], errors=\"coerce\")"
   ]
  },
  {
   "cell_type": "code",
   "execution_count": 149,
   "id": "189dd21d-7040-48a5-b9a8-650fa069fb03",
   "metadata": {},
   "outputs": [],
   "source": [
    "# Predict\n",
    "\n",
    "proba = pipe.predict_proba(X)[:, 1] \n",
    "pred  = (proba >= 0.5).astype(int)    # prediction threshold\n",
    "\n",
    "# Append results to output data\n",
    "amb[\"probability\"] = proba\n",
    "amb[\"prediction\"] = pred"
   ]
  },
  {
   "cell_type": "code",
   "execution_count": 153,
   "id": "0064213e-d2d0-4555-9f82-133d7be5c30d",
   "metadata": {},
   "outputs": [],
   "source": [
    "# Pathogenicity predictions\n",
    "\n",
    "amb.to_csv(\"ambiguous_data_predictions.tsv.gz\", sep=\"\\t\", index=False,\n",
    "          na_rep=\".\", float_format=\"%.6g\", compression=\"gzip\")"
   ]
  },
  {
   "cell_type": "markdown",
   "id": "3e3b9956-427e-45b9-8d32-158bcdd6ee1e",
   "metadata": {},
   "source": [
    "# **Create a small, general model**"
   ]
  },
  {
   "cell_type": "code",
   "execution_count": 156,
   "id": "60e86b9a-b388-4d94-a393-4a57138d8170",
   "metadata": {},
   "outputs": [],
   "source": [
    "# Read in the data as before and reprocess it (same as initial processing)\n",
    "\n",
    "df = pd.read_parquet('C:/test/annotated.full.parquet')\n",
    "\n",
    "# Convert clnsig to 0/1 for benigh/pathogenic\n",
    "df[\"label\"] = df[\"clnsig\"].apply(map_label)\n",
    "\n",
    "# Get rid of ambiguous data\n",
    "df = df[df[\"label\"] != -1]\n",
    "\n",
    "# Copy\n",
    "X = df.copy()\n",
    "\n",
    "# Coerce to numeric\n",
    "for c in X.columns:\n",
    "    X[c] = pd.to_numeric(X[c], errors=\"coerce\")\n",
    "\n",
    "# Collect prediction column\n",
    "y = X[\"label\"]"
   ]
  },
  {
   "cell_type": "code",
   "execution_count": 157,
   "id": "7d7ce8b4-5356-4181-921a-dbec7479ccff",
   "metadata": {},
   "outputs": [],
   "source": [
    "# Drop most columns - only keep those that can be inferred from CHROM, POS, REF, ALT\n",
    "\n",
    "# Drop unneeded columns (target column is 'label' with \"benign\"/0, \"pathogenic\"/1)\n",
    "X = X.drop([\"chrom\",\"pos\",\"ref\",\"alt\", \"label\", \"clnsig\", \"feature\", \"gene\"], axis =1 )\n",
    "\n",
    "# Drop data columns that can't be calculated or inferred from CHROM, POS, REF, ALT \n",
    "X = X.drop([\"af\",\"nhomalt\",\"revel\",\"cadd_phred\",\"cadd_raw\",\"mpc\",\"phyloP100\",\"phastCons100\",\"gerp_rs\",\"ccr_pct\", \"ccr_top1\", \"mpc_filled\", \"mpc_is_missing\"], axis =1 )"
   ]
  },
  {
   "cell_type": "code",
   "execution_count": 159,
   "id": "8eed1f95-b018-4fad-a08a-2e7f559cbcb0",
   "metadata": {},
   "outputs": [
    {
     "name": "stdout",
     "output_type": "stream",
     "text": [
      "Number of predictors: \n",
      " Benign: 1263888 \n",
      " Pathogenic: 311757 \n",
      " Percent Pathogenic: 19\n"
     ]
    }
   ],
   "source": [
    "# Print a rough summary of target column\n",
    "\n",
    "benign = sum(y==0)\n",
    "pathogenic = sum(y==1)\n",
    "total = benign + pathogenic\n",
    "pct = int(100*(float(pathogenic/total)))\n",
    "\n",
    "print(f'Number of predictors: \\n Benign: {benign} \\n Pathogenic: {pathogenic} \\n Percent Pathogenic: {pct}')"
   ]
  },
  {
   "cell_type": "code",
   "execution_count": 160,
   "id": "610ef92c-deae-42a4-bea8-fa994ae126cb",
   "metadata": {},
   "outputs": [],
   "source": [
    "# Train/test split\n",
    "\n",
    "randomSeed = 99\n",
    "X_train, X_test, y_train, y_test = train_test_split(X, y, test_size=0.2, random_state=randomSeed, stratify=y)"
   ]
  },
  {
   "cell_type": "code",
   "execution_count": 162,
   "id": "67ba1ea6-5559-402b-bcc7-2766f2e50755",
   "metadata": {},
   "outputs": [],
   "source": [
    "# Pipeline settings (same as before)\n",
    "\n",
    "# Pipeline: median imputer -> HistGradientBoosting\n",
    "\n",
    "pipe = Pipeline(steps=[\n",
    "    (\"impute\", SimpleImputer(strategy=\"median\")),\n",
    "    (\"clf\", HistGradientBoostingClassifier(\n",
    "        learning_rate=0.05,\n",
    "        max_depth=None,      # allow tree growth with L2 regularization\n",
    "        max_leaf_nodes=31,\n",
    "        l2_regularization=0.0,\n",
    "        random_state=randomSeed\n",
    "    ))\n",
    "])"
   ]
  },
  {
   "cell_type": "code",
   "execution_count": 163,
   "id": "89501cdb-85ed-4a87-83f1-ad0f59eb9195",
   "metadata": {},
   "outputs": [],
   "source": [
    "# Test the effectiveness of the training data + model + params using 5-fold cross validation\n",
    "    # This creates a model 5x on 5 different train/test splits\n",
    "    # This does not produce an output model. It only establishes the likelihood the settings will produce a good model.\n",
    "\n",
    "cv = StratifiedKFold(n_splits=5, shuffle=True, random_state=randomSeed)\n",
    "\n",
    "# Set scoring method\n",
    "    # ROC AUC - area under the curve - higher = better\n",
    "    # Average precision - good for cases where the positive value is rare (not the case here, but ok)\n",
    "scoring = {\"roc_auc\":\"roc_auc\", \"pr_auc\":\"average_precision\"}\n",
    "\n",
    "# Test by 5x cross validation\n",
    "cv_res = cross_validate(pipe, X_train, y_train, cv=cv, scoring=scoring, n_jobs=-1, return_train_score=False)"
   ]
  },
  {
   "cell_type": "code",
   "execution_count": 164,
   "id": "b68956ed-f9c6-4797-936b-93177b326bd4",
   "metadata": {},
   "outputs": [
    {
     "name": "stdout",
     "output_type": "stream",
     "text": [
      "[cv] ROC-AUC mean=0.886 ± 0.001\n",
      "[cv] PR-AUC  mean=0.754 ± 0.002\n"
     ]
    }
   ],
   "source": [
    "# Report CV test results\n",
    "\n",
    "print(f\"[cv] ROC-AUC mean={cv_res['test_roc_auc'].mean():.3f} ± {cv_res['test_roc_auc'].std():.3f}\")\n",
    "print(f\"[cv] PR-AUC  mean={cv_res['test_pr_auc'].mean():.3f} ± {cv_res['test_pr_auc'].std():.3f}\")"
   ]
  },
  {
   "cell_type": "code",
   "execution_count": 165,
   "id": "ce2d970e-a9c1-493e-9bf6-008b74cd6593",
   "metadata": {},
   "outputs": [],
   "source": [
    "# Fit on full train; evaluate on held-out test\n",
    "\n",
    "pipe.fit(X_train, y_train)\n",
    "proba = pipe.predict_proba(X_test)[:,1]\n",
    "preds = (proba >= 0.5).astype(int)"
   ]
  },
  {
   "cell_type": "code",
   "execution_count": 166,
   "id": "54eeeb9b-1111-49c5-a165-7e9ea39f420e",
   "metadata": {},
   "outputs": [
    {
     "name": "stdout",
     "output_type": "stream",
     "text": [
      "[test] ROC-AUC=0.885  PR-AUC=0.755\n",
      "[test] classification report:\n",
      "              precision    recall  f1-score   support\n",
      "\n",
      "           0      0.906     0.956     0.931    252778\n",
      "           1      0.771     0.599     0.674     62351\n",
      "\n",
      "    accuracy                          0.885    315129\n",
      "   macro avg      0.839     0.778     0.802    315129\n",
      "weighted avg      0.879     0.885     0.880    315129\n",
      "\n"
     ]
    }
   ],
   "source": [
    "# Assess model\n",
    "\n",
    "test_roc = roc_auc_score(y_test, proba)\n",
    "test_pr  = average_precision_score(y_test, proba)\n",
    "\n",
    "print(f\"[test] ROC-AUC={test_roc:.3f}  PR-AUC={test_pr:.3f}\")\n",
    "print(\"[test] classification report:\")\n",
    "print(classification_report(y_test, preds, digits=3))"
   ]
  },
  {
   "cell_type": "code",
   "execution_count": 167,
   "id": "6f1365e4-e30c-40fc-8543-7034d1379ee3",
   "metadata": {},
   "outputs": [
    {
     "data": {
      "text/plain": [
       "['smallModel.joblib']"
      ]
     },
     "execution_count": 167,
     "metadata": {},
     "output_type": "execute_result"
    }
   ],
   "source": [
    "# Save the model\n",
    "pipelineName = \"smallModel.joblib\"\n",
    "dump(pipe, pipelineName)"
   ]
  },
  {
   "cell_type": "code",
   "execution_count": 168,
   "id": "e881b484-3af9-4e90-9226-e4f89632bd35",
   "metadata": {},
   "outputs": [],
   "source": [
    "# Record model features\n",
    "\n",
    "with open(\"smallModelFeatures.txt\", \"w\") as out:\n",
    "    out.write(\"Features:\\n\")\n",
    "    for f in X.columns:\n",
    "        out.write(f + \"\\n\")"
   ]
  },
  {
   "cell_type": "code",
   "execution_count": 169,
   "id": "cdbb96f2-e99b-4e6f-b562-752ab1a22ecc",
   "metadata": {},
   "outputs": [
    {
     "name": "stdout",
     "output_type": "stream",
     "text": [
      "[done] saved model → variant_model.joblib\n",
      "[done] saved features → features.json\n",
      "[done] saved metrics → metrics.json\n"
     ]
    }
   ],
   "source": [
    "# Save model scores\n",
    "\n",
    "with open(\"smallModelScores.json\", \"w\") as f:\n",
    "    json.dump({\n",
    "        \"cv_roc_auc_mean\": float(cv_res['test_roc_auc'].mean()),\n",
    "        \"cv_pr_auc_mean\": float(cv_res['test_pr_auc'].mean()),\n",
    "        \"test_roc_auc\": float(test_roc),\n",
    "        \"test_pr_auc\": float(test_pr)\n",
    "    }, f, indent=2)\n",
    "\n",
    "print(f\"[done] saved model → {'variant_model.joblib'}\")\n",
    "print(f\"[done] saved features → {'features.json'}\")\n",
    "print(f\"[done] saved metrics → {'metrics.json'}\")"
   ]
  },
  {
   "cell_type": "code",
   "execution_count": 170,
   "id": "e200cace-ec3f-4edf-9f74-9f4817856397",
   "metadata": {},
   "outputs": [],
   "source": [
    "# Get the original data for the X_test rows\n",
    "\n",
    "r = X_test\n",
    "r[\"proba\"] = proba\n",
    "r[\"preds\"] = preds\n",
    "r[\"actual\"] = y_test"
   ]
  },
  {
   "cell_type": "code",
   "execution_count": 172,
   "id": "53d1c06d-b6fb-412b-a2b5-366fda3d50a3",
   "metadata": {},
   "outputs": [
    {
     "data": {
      "text/html": [
       "<div>\n",
       "<style scoped>\n",
       "    .dataframe tbody tr th:only-of-type {\n",
       "        vertical-align: middle;\n",
       "    }\n",
       "\n",
       "    .dataframe tbody tr th {\n",
       "        vertical-align: top;\n",
       "    }\n",
       "\n",
       "    .dataframe thead th {\n",
       "        text-align: right;\n",
       "    }\n",
       "</style>\n",
       "<table border=\"1\" class=\"dataframe\">\n",
       "  <thead>\n",
       "    <tr style=\"text-align: right;\">\n",
       "      <th></th>\n",
       "      <th>loeuf</th>\n",
       "      <th>pli</th>\n",
       "      <th>mis_z</th>\n",
       "      <th>syn_z</th>\n",
       "      <th>ref_len</th>\n",
       "      <th>alt_len</th>\n",
       "      <th>is_indel</th>\n",
       "      <th>is_snv</th>\n",
       "      <th>indel_len</th>\n",
       "      <th>is_transition_num</th>\n",
       "      <th>...</th>\n",
       "      <th>is_frameshift</th>\n",
       "      <th>is_missense</th>\n",
       "      <th>mt_missense</th>\n",
       "      <th>mt_noncoding</th>\n",
       "      <th>mt_nonsense</th>\n",
       "      <th>mt_silent</th>\n",
       "      <th>proba</th>\n",
       "      <th>preds</th>\n",
       "      <th>actual</th>\n",
       "      <th>correct</th>\n",
       "    </tr>\n",
       "  </thead>\n",
       "  <tbody>\n",
       "    <tr>\n",
       "      <th>368061</th>\n",
       "      <td>NaN</td>\n",
       "      <td>NaN</td>\n",
       "      <td>4.233300</td>\n",
       "      <td>1.09160</td>\n",
       "      <td>1</td>\n",
       "      <td>1</td>\n",
       "      <td>0</td>\n",
       "      <td>1</td>\n",
       "      <td>0</td>\n",
       "      <td>1</td>\n",
       "      <td>...</td>\n",
       "      <td>0</td>\n",
       "      <td>0</td>\n",
       "      <td>0</td>\n",
       "      <td>1</td>\n",
       "      <td>0</td>\n",
       "      <td>0</td>\n",
       "      <td>0.083532</td>\n",
       "      <td>0</td>\n",
       "      <td>0</td>\n",
       "      <td>1</td>\n",
       "    </tr>\n",
       "    <tr>\n",
       "      <th>1654540</th>\n",
       "      <td>NaN</td>\n",
       "      <td>NaN</td>\n",
       "      <td>NaN</td>\n",
       "      <td>NaN</td>\n",
       "      <td>1</td>\n",
       "      <td>1</td>\n",
       "      <td>0</td>\n",
       "      <td>1</td>\n",
       "      <td>0</td>\n",
       "      <td>1</td>\n",
       "      <td>...</td>\n",
       "      <td>0</td>\n",
       "      <td>0</td>\n",
       "      <td>0</td>\n",
       "      <td>1</td>\n",
       "      <td>0</td>\n",
       "      <td>0</td>\n",
       "      <td>0.097363</td>\n",
       "      <td>0</td>\n",
       "      <td>1</td>\n",
       "      <td>0</td>\n",
       "    </tr>\n",
       "    <tr>\n",
       "      <th>402877</th>\n",
       "      <td>0.803</td>\n",
       "      <td>6.586100e-44</td>\n",
       "      <td>1.021800</td>\n",
       "      <td>1.54670</td>\n",
       "      <td>1</td>\n",
       "      <td>1</td>\n",
       "      <td>0</td>\n",
       "      <td>1</td>\n",
       "      <td>0</td>\n",
       "      <td>0</td>\n",
       "      <td>...</td>\n",
       "      <td>0</td>\n",
       "      <td>0</td>\n",
       "      <td>0</td>\n",
       "      <td>1</td>\n",
       "      <td>0</td>\n",
       "      <td>0</td>\n",
       "      <td>0.239626</td>\n",
       "      <td>0</td>\n",
       "      <td>0</td>\n",
       "      <td>1</td>\n",
       "    </tr>\n",
       "    <tr>\n",
       "      <th>986498</th>\n",
       "      <td>NaN</td>\n",
       "      <td>NaN</td>\n",
       "      <td>-0.062263</td>\n",
       "      <td>0.10622</td>\n",
       "      <td>1</td>\n",
       "      <td>1</td>\n",
       "      <td>0</td>\n",
       "      <td>1</td>\n",
       "      <td>0</td>\n",
       "      <td>1</td>\n",
       "      <td>...</td>\n",
       "      <td>0</td>\n",
       "      <td>0</td>\n",
       "      <td>0</td>\n",
       "      <td>1</td>\n",
       "      <td>0</td>\n",
       "      <td>0</td>\n",
       "      <td>0.072867</td>\n",
       "      <td>0</td>\n",
       "      <td>0</td>\n",
       "      <td>1</td>\n",
       "    </tr>\n",
       "    <tr>\n",
       "      <th>434189</th>\n",
       "      <td>0.304</td>\n",
       "      <td>9.999900e-01</td>\n",
       "      <td>3.754000</td>\n",
       "      <td>0.18436</td>\n",
       "      <td>1</td>\n",
       "      <td>1</td>\n",
       "      <td>0</td>\n",
       "      <td>1</td>\n",
       "      <td>0</td>\n",
       "      <td>0</td>\n",
       "      <td>...</td>\n",
       "      <td>0</td>\n",
       "      <td>0</td>\n",
       "      <td>0</td>\n",
       "      <td>1</td>\n",
       "      <td>0</td>\n",
       "      <td>0</td>\n",
       "      <td>0.150353</td>\n",
       "      <td>0</td>\n",
       "      <td>0</td>\n",
       "      <td>1</td>\n",
       "    </tr>\n",
       "  </tbody>\n",
       "</table>\n",
       "<p>5 rows × 25 columns</p>\n",
       "</div>"
      ],
      "text/plain": [
       "         loeuf           pli     mis_z    syn_z  ref_len  alt_len  is_indel  \\\n",
       "368061     NaN           NaN  4.233300  1.09160        1        1         0   \n",
       "1654540    NaN           NaN       NaN      NaN        1        1         0   \n",
       "402877   0.803  6.586100e-44  1.021800  1.54670        1        1         0   \n",
       "986498     NaN           NaN -0.062263  0.10622        1        1         0   \n",
       "434189   0.304  9.999900e-01  3.754000  0.18436        1        1         0   \n",
       "\n",
       "         is_snv  indel_len  is_transition_num  ...  is_frameshift  \\\n",
       "368061        1          0                  1  ...              0   \n",
       "1654540       1          0                  1  ...              0   \n",
       "402877        1          0                  0  ...              0   \n",
       "986498        1          0                  1  ...              0   \n",
       "434189        1          0                  0  ...              0   \n",
       "\n",
       "         is_missense  mt_missense  mt_noncoding  mt_nonsense  mt_silent  \\\n",
       "368061             0            0             1            0          0   \n",
       "1654540            0            0             1            0          0   \n",
       "402877             0            0             1            0          0   \n",
       "986498             0            0             1            0          0   \n",
       "434189             0            0             1            0          0   \n",
       "\n",
       "            proba  preds  actual  correct  \n",
       "368061   0.083532      0       0        1  \n",
       "1654540  0.097363      0       1        0  \n",
       "402877   0.239626      0       0        1  \n",
       "986498   0.072867      0       0        1  \n",
       "434189   0.150353      0       0        1  \n",
       "\n",
       "[5 rows x 25 columns]"
      ]
     },
     "execution_count": 172,
     "metadata": {},
     "output_type": "execute_result"
    }
   ],
   "source": [
    "# Accuracy\n",
    "r[\"correct\"] = (r[\"preds\"] == r[\"actual\"]).astype(int)\n",
    "r.head()"
   ]
  },
  {
   "cell_type": "code",
   "execution_count": 173,
   "id": "9e4f6a12-5c84-483b-9e27-26c14e0038e5",
   "metadata": {},
   "outputs": [
    {
     "name": "stdout",
     "output_type": "stream",
     "text": [
      "Correct: 279032, Total: 315129, Percent: 88.5453258824164\n"
     ]
    }
   ],
   "source": [
    "# Get general metrics\n",
    "\n",
    "totalEntries = len(r)\n",
    "correctEntries = len(r[r[\"correct\"] == 1])\n",
    "print(f\"Correct: {correctEntries}, Total: {totalEntries}, Percent: {100*(correctEntries/totalEntries)}\")"
   ]
  },
  {
   "cell_type": "code",
   "execution_count": 174,
   "id": "67efbeb6-072a-4e51-9ade-28286512b55a",
   "metadata": {},
   "outputs": [
    {
     "name": "stdout",
     "output_type": "stream",
     "text": [
      "Final length of high confidence mutation list: 271756, pct. of total: 86.23643016034703\n"
     ]
    }
   ],
   "source": [
    "# Filter to high confidence\n",
    "\n",
    "f = r[(r['proba'] > 0.75) | (r['proba'] < 0.25)]\n",
    "print(f\"Final length of high confidence mutation list: {len(f)}, pct. of total: {(len(f)/len(r))*100}\")"
   ]
  },
  {
   "cell_type": "code",
   "execution_count": 175,
   "id": "6a9d6c91-0463-4d66-964e-95f94af55415",
   "metadata": {},
   "outputs": [
    {
     "name": "stdout",
     "output_type": "stream",
     "text": [
      "Correct: 251218, Total: 271756, Percent: 92.44248517052061\n"
     ]
    }
   ],
   "source": [
    "# Get general metrics for filtered (high confidence) predictions\n",
    "\n",
    "totalF = len(f)\n",
    "correctF = len(f[f[\"correct\"] == 1])\n",
    "print(f\"Correct: {correctF}, Total: {totalF}, Percent: {100*(correctF/totalF)}\")"
   ]
  },
  {
   "cell_type": "code",
   "execution_count": 176,
   "id": "f4882a94-6db7-47d9-bd99-eca15e8ce54e",
   "metadata": {},
   "outputs": [],
   "source": [
    "from sklearn.metrics import confusion_matrix\n",
    "\n",
    "cm = confusion_matrix(f[\"actual\"], f[\"preds\"])\n",
    "cm = pd.DataFrame(cm, index=['0/Benign', '1/Path'], columns=['0/Benign', '1/Path'])"
   ]
  },
  {
   "cell_type": "code",
   "execution_count": 177,
   "id": "0a50bcba-4d15-48b2-aeb8-632b2ed8cb51",
   "metadata": {},
   "outputs": [
    {
     "data": {
      "text/plain": [
       "[Text(0.5, 23.52222222222222, 'Prediction'),\n",
       " Text(77.92222222222227, 0.5, 'Actual')]"
      ]
     },
     "execution_count": 177,
     "metadata": {},
     "output_type": "execute_result"
    },
    {
     "data": {
      "image/png": "[encoded data removed]",
      "text/plain": [
       "<Figure size 640x480 with 2 Axes>"
      ]
     },
     "metadata": {},
     "output_type": "display_data"
    }
   ],
   "source": [
    "# Confusion Matrix of filtered data\n",
    "import seaborn as sns\n",
    "\n",
    "labels = [\"Benign\",\"Pathogenic\"]\n",
    "hm = sns.heatmap(cm, annot=True, linecolor='gray', linewidth=1, fmt='', xticklabels=labels, yticklabels=labels, square=True)\n",
    "hm.set(xlabel='Prediction', ylabel='Actual')"
   ]
  },
  {
   "cell_type": "code",
   "execution_count": 178,
   "id": "4c077a8b-5143-4ac7-8cd7-84fe6e96bba1",
   "metadata": {},
   "outputs": [],
   "source": [
    "# Convert confusion matrix to percent of total benign or total pathogenic\n",
    "\n",
    "cSums = list(cm.sum(axis=0))\n",
    "benTotal = cSums[0]\n",
    "pathtotal = cSums[1]\n",
    "\n",
    "bb = round(100*(cm.iloc[0,0]/benTotal),1)\n",
    "bp = round(100*(cm.iloc[1,0]/benTotal),1)\n",
    "pb = round(100*(cm.iloc[0,1]/pathtotal),1)\n",
    "pp = round(100*(cm.iloc[1,1]/pathtotal),1)\n",
    "cmp = [[bb, pb], [bp, pp]]\n",
    "cm2 = pd.DataFrame(cmp, index=['Pathogenic', 'Benign'], columns=['Pathogenic', 'Benign'])"
   ]
  },
  {
   "cell_type": "code",
   "execution_count": 179,
   "id": "4b96f981-326d-473e-a5c9-9e001b2534b8",
   "metadata": {},
   "outputs": [
    {
     "data": {
      "text/plain": [
       "[Text(0.5, 23.52222222222222, 'Prediction'),\n",
       " Text(77.92222222222227, 0.5, 'Actual')]"
      ]
     },
     "execution_count": 179,
     "metadata": {},
     "output_type": "execute_result"
    },
    {
     "data": {
      "image/png": "[encoded data removed]",
      "text/plain": [
       "<Figure size 640x480 with 2 Axes>"
      ]
     },
     "metadata": {},
     "output_type": "display_data"
    }
   ],
   "source": [
    "# Plot confusion matrix as percent\n",
    "\n",
    "labels = [\"Benign\",\"Pathogenic\"]\n",
    "hm = sns.heatmap(cm2, annot=True, linecolor='gray', linewidth=1, fmt='', xticklabels=labels, yticklabels=labels, square=True)\n",
    "hm.set(xlabel='Prediction', ylabel='Actual')"
   ]
  },
  {
   "cell_type": "code",
   "execution_count": 181,
   "id": "b2a07a22-9969-412e-9552-5197fe35eb71",
   "metadata": {},
   "outputs": [
    {
     "data": {
      "text/plain": [
       "[Text(0.5, 23.52222222222222, 'Prediction'),\n",
       " Text(77.92222222222227, 0.5, 'Actual')]"
      ]
     },
     "execution_count": 181,
     "metadata": {},
     "output_type": "execute_result"
    },
    {
     "data": {
      "image/png": "[encoded data removed]",
      "text/plain": [
       "<Figure size 640x480 with 2 Axes>"
      ]
     },
     "metadata": {},
     "output_type": "display_data"
    }
   ],
   "source": [
    "# Full set of predictions (without filtering for high confidence)\n",
    "# Plot confusion matrix as percent\n",
    "\n",
    "cm = confusion_matrix(r[\"actual\"], r[\"preds\"])\n",
    "cm = pd.DataFrame(cm, index=['0/Benign', '1/Path'], columns=['0/Benign', '1/Path'])\n",
    "\n",
    "labels = [\"Benign\",\"Pathogenic\"]\n",
    "hm = sns.heatmap(cm, annot=True, linecolor='gray', linewidth=1, fmt='', xticklabels=labels, yticklabels=labels, square=True)\n",
    "hm.set(xlabel='Prediction', ylabel='Actual')"
   ]
  },
  {
   "cell_type": "code",
   "execution_count": 182,
   "id": "30cbebd1-8088-4a1a-b0f8-216ac6583a44",
   "metadata": {},
   "outputs": [
    {
     "data": {
      "text/plain": [
       "[Text(0.5, 23.52222222222222, 'Prediction'),\n",
       " Text(77.92222222222227, 0.5, 'Actual')]"
      ]
     },
     "execution_count": 182,
     "metadata": {},
     "output_type": "execute_result"
    },
    {
     "data": {
      "image/png": "[encoded data removed]",
      "text/plain": [
       "<Figure size 640x480 with 2 Axes>"
      ]
     },
     "metadata": {},
     "output_type": "display_data"
    }
   ],
   "source": [
    "# Convert unfiltered data to percent of total benign or total pathogenic\n",
    "\n",
    "cSums = list(cm.sum(axis=0))\n",
    "benTotal = cSums[0]\n",
    "pathtotal = cSums[1]\n",
    "\n",
    "bb = round(100*(cm.iloc[0,0]/benTotal),1)\n",
    "bp = round(100*(cm.iloc[1,0]/benTotal),1)\n",
    "pb = round(100*(cm.iloc[0,1]/pathtotal),1)\n",
    "pp = round(100*(cm.iloc[1,1]/pathtotal),1)\n",
    "cmp = [[bb, pb], [bp, pp]]\n",
    "cm2 = pd.DataFrame(cmp, index=['Pathogenic', 'Benign'], columns=['Pathogenic', 'Benign'])\n",
    "\n",
    "# Plot confusion matrix as percent\n",
    "\n",
    "labels = [\"Benign\",\"Pathogenic\"]\n",
    "hm = sns.heatmap(cm2, annot=True, linecolor='gray', linewidth=1, fmt='', xticklabels=labels, yticklabels=labels, square=True)\n",
    "hm.set(xlabel='Prediction', ylabel='Actual')"
   ]
  },
  {
   "cell_type": "code",
   "execution_count": null,
   "id": "7773b9dd-193c-4a65-b5c1-9349c97c11fc",
   "metadata": {},
   "outputs": [],
   "source": []
  },
  {
   "cell_type": "code",
   "execution_count": null,
   "id": "86e3a61e-94db-44f1-ad3b-8d4131bf71e6",
   "metadata": {},
   "outputs": [],
   "source": []
  },
  {
   "cell_type": "code",
   "execution_count": null,
   "id": "503f8e0f-7576-4534-bbdc-f521fa88a028",
   "metadata": {},
   "outputs": [],
   "source": []
  }
 ],
 "metadata": {
  "kernelspec": {
   "display_name": "Python 3 (ipykernel)",
   "language": "python",
   "name": "python3"
  },
  "language_info": {
   "codemirror_mode": {
    "name": "ipython",
    "version": 3
   },
   "file_extension": ".py",
   "mimetype": "text/x-python",
   "name": "python",
   "nbconvert_exporter": "python",
   "pygments_lexer": "ipython3",
   "version": "3.12.10"
  }
 },
 "nbformat": 4,
 "nbformat_minor": 5
}
